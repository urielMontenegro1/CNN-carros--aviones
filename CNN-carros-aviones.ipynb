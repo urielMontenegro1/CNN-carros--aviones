{
  "nbformat": 4,
  "nbformat_minor": 0,
  "metadata": {
    "colab": {
      "name": "Actividad_10.ipynb",
      "provenance": [],
      "collapsed_sections": []
    },
    "kernelspec": {
      "name": "python3",
      "display_name": "Python 3"
    },
    "language_info": {
      "name": "python"
    }
  },
  "cells": [
    {
      "cell_type": "code",
      "metadata": {
        "id": "JEW6NSKitLzZ"
      },
      "source": [
        "import numpy as np\n",
        "import matplotlib.pyplot as plt\n",
        "import matplotlib.image as mpimg\n",
        "\n",
        "from tensorflow import keras\n",
        "from keras.datasets import cifar10\n",
        "from keras.models import Sequential\n",
        "from keras.layers import Dense,Flatten,Dropout\n",
        "from keras.layers import Conv2D, MaxPooling2D\n",
        "\n",
        "from sklearn import metrics\n",
        "import  cv2"
      ],
      "execution_count": 1,
      "outputs": []
    },
    {
      "cell_type": "code",
      "metadata": {
        "id": "tVVzCE85uyFN",
        "colab": {
          "base_uri": "https://localhost:8080/"
        },
        "outputId": "37b84afa-c821-44eb-92b9-4652ef9c3072"
      },
      "source": [
        "(xtrain,ytrain),(xtest,ytest)= cifar10.load_data()\n",
        "\n",
        "#menu para selección\n",
        "\n",
        "#0 <- airplane\n",
        "#1 <- automobile\n",
        "#2 <- bird\n",
        "#3 <- cat\n",
        "#4 <- deer\n",
        "#5 <- dog\n",
        "#6 <- frog\n",
        "#7 <- horse\n",
        "#8 <- ship\n",
        "#9 <- truck\n"
      ],
      "execution_count": 2,
      "outputs": [
        {
          "output_type": "stream",
          "name": "stdout",
          "text": [
            "Downloading data from https://www.cs.toronto.edu/~kriz/cifar-10-python.tar.gz\n",
            "170500096/170498071 [==============================] - 2s 0us/step\n",
            "170508288/170498071 [==============================] - 2s 0us/step\n"
          ]
        }
      ]
    },
    {
      "cell_type": "code",
      "metadata": {
        "id": "Su01YzNUvgZQ"
      },
      "source": [
        "##aqui se configura que numero de la tabla anterior va a ser\n",
        "avion=(ytrain==0).ravel()\n",
        "carro=(ytrain==1).ravel()\n",
        "\n",
        "xtrain=np.concatenate((xtrain[avion,:,:,:],xtrain[carro,:,:,:]))\n",
        "\n",
        "avion=(ytest==0).ravel()\n",
        "carro=(ytest==1).ravel()\n",
        "\n",
        "xtest=np.concatenate((xtest[avion,:,:,:],xtest[carro,:,:,:]))"
      ],
      "execution_count": 3,
      "outputs": []
    },
    {
      "cell_type": "code",
      "metadata": {
        "id": "JGS9fUCrxLxo"
      },
      "source": [
        "ytrain=np.ones(10000)\n",
        "ytrain[0:5000]=ytrain[0:5000]*0\n",
        "I = np.random.permutation(10000)\n",
        "\n",
        "xtrain= xtrain[I,:,:,:]\n",
        "ytrain= ytrain[I]\n",
        "\n",
        "ytest = np.ones(2000)\n",
        "ytest[0:1000] = ytest[0:1000]*0\n",
        "I=np.random.permutation(2000)\n",
        "\n",
        "xtest=xtest[I,:,:,:]\n",
        "ytest=ytest[I]"
      ],
      "execution_count": 4,
      "outputs": []
    },
    {
      "cell_type": "code",
      "metadata": {
        "colab": {
          "base_uri": "https://localhost:8080/",
          "height": 281
        },
        "id": "mzkvdHjizTQP",
        "outputId": "b0770f42-1001-4528-f02a-7215dbcdb82e"
      },
      "source": [
        "number=np.random.randint(0,10000)\n",
        "#carro=1\n",
        "#avion=0\n",
        "plt.imshow(xtrain[number])\n",
        "plt.title('numer = '+ str(ytrain[number]))\n",
        "plt.show()"
      ],
      "execution_count": 17,
      "outputs": [
        {
          "output_type": "display_data",
          "data": {
            "image/png": "[encoded data removed]",
            "text/plain": [
              "<Figure size 432x288 with 1 Axes>"
            ]
          },
          "metadata": {
            "needs_background": "light"
          }
        }
      ]
    },
    {
      "cell_type": "code",
      "metadata": {
        "id": "g1r7Sz3L2U9a"
      },
      "source": [
        "model= Sequential()\n",
        "\n",
        "#se añade la primera capa\n",
        "model.add(Conv2D(128,kernel_size=(3,3),padding='same',activation='relu',input_shape=(32,32,3)))\n",
        "model.add(MaxPooling2D(pool_size=(2,2)))\n",
        "model.add(Dropout(0.2))#regularización\n",
        "\n",
        "#Se añade la segunda capa\n",
        "model.add(Conv2D(64,kernel_size=(3,3),padding='same',activation='relu'))\n",
        "model.add(MaxPooling2D(pool_size=(2,2)))\n",
        "model.add(Dropout(0.2))#regularización\n",
        "\n",
        "#Se añade la tercera capa\n",
        "model.add(Conv2D(32,kernel_size=(3,3),padding='same',activation='relu'))\n",
        "model.add(MaxPooling2D(pool_size=(2,2)))\n",
        "model.add(Dropout(0.2))#regularización\n",
        "\n",
        "#Se hace faltten para  usar la red  fully connected\n",
        "\n",
        "model.add(Flatten())\n",
        "\n",
        "model.add(Dense(64,activation='relu'))\n",
        "model.add(Dropout(0.2))#regularización\n",
        "\n",
        "model.add(Dense(32,activation='relu'))\n",
        "model.add(Dropout(0.2))#regularización\n",
        "\n",
        "#Añadimos una capa sofmaxt para que podamos clasificar imagenes\n",
        "model.add(Dense(1,activation='sigmoid'))\n",
        "\n",
        "model.compile(loss='binary_crossentropy',optimizer='adam',metrics=['accuracy'])\n",
        "\n",
        "##loss <- funcion de perdida\n",
        "#keras.losses.categorical_crossentropy<-calsificacion multiclase\n",
        "#keras.losses.binary_crossentropy<-clasificacion binaria\n",
        "#keras.losses.mean_squared_error<-regresion"
      ],
      "execution_count": 18,
      "outputs": []
    },
    {
      "cell_type": "code",
      "metadata": {
        "colab": {
          "base_uri": "https://localhost:8080/"
        },
        "id": "dWEelWhV3LYb",
        "outputId": "e9d1d044-d91a-4de0-ab54-091efc99668e"
      },
      "source": [
        "hist=model.fit(xtrain,ytrain,batch_size=32,epochs=30,verbose=1,validation_data=(xtest,ytest))"
      ],
      "execution_count": 19,
      "outputs": [
        {
          "output_type": "stream",
          "name": "stdout",
          "text": [
            "Epoch 1/30\n",
            "313/313 [==============================] - 60s 187ms/step - loss: 0.9191 - accuracy: 0.6694 - val_loss: 0.5218 - val_accuracy: 0.7550\n",
            "Epoch 2/30\n",
            "313/313 [==============================] - 58s 186ms/step - loss: 0.4421 - accuracy: 0.8031 - val_loss: 0.3630 - val_accuracy: 0.8595\n",
            "Epoch 3/30\n",
            "313/313 [==============================] - 58s 185ms/step - loss: 0.3983 - accuracy: 0.8271 - val_loss: 0.2805 - val_accuracy: 0.8760\n",
            "Epoch 4/30\n",
            "313/313 [==============================] - 57s 184ms/step - loss: 0.3308 - accuracy: 0.8657 - val_loss: 0.2472 - val_accuracy: 0.9050\n",
            "Epoch 5/30\n",
            "313/313 [==============================] - 57s 184ms/step - loss: 0.2780 - accuracy: 0.8900 - val_loss: 0.2045 - val_accuracy: 0.9225\n",
            "Epoch 6/30\n",
            "313/313 [==============================] - 57s 184ms/step - loss: 0.2546 - accuracy: 0.9015 - val_loss: 0.2143 - val_accuracy: 0.9205\n",
            "Epoch 7/30\n",
            "313/313 [==============================] - 58s 184ms/step - loss: 0.2163 - accuracy: 0.9174 - val_loss: 0.1673 - val_accuracy: 0.9365\n",
            "Epoch 8/30\n",
            "313/313 [==============================] - 57s 184ms/step - loss: 0.2018 - accuracy: 0.9264 - val_loss: 0.1837 - val_accuracy: 0.9295\n",
            "Epoch 9/30\n",
            "313/313 [==============================] - 57s 183ms/step - loss: 0.1905 - accuracy: 0.9292 - val_loss: 0.1693 - val_accuracy: 0.9390\n",
            "Epoch 10/30\n",
            "313/313 [==============================] - 57s 183ms/step - loss: 0.1727 - accuracy: 0.9340 - val_loss: 0.1441 - val_accuracy: 0.9445\n",
            "Epoch 11/30\n",
            "313/313 [==============================] - 57s 183ms/step - loss: 0.1663 - accuracy: 0.9382 - val_loss: 0.1420 - val_accuracy: 0.9535\n",
            "Epoch 12/30\n",
            "313/313 [==============================] - 57s 182ms/step - loss: 0.1501 - accuracy: 0.9432 - val_loss: 0.1323 - val_accuracy: 0.9510\n",
            "Epoch 13/30\n",
            "313/313 [==============================] - 57s 183ms/step - loss: 0.1470 - accuracy: 0.9452 - val_loss: 0.1109 - val_accuracy: 0.9590\n",
            "Epoch 14/30\n",
            "313/313 [==============================] - 57s 182ms/step - loss: 0.1482 - accuracy: 0.9438 - val_loss: 0.1299 - val_accuracy: 0.9550\n",
            "Epoch 15/30\n",
            "313/313 [==============================] - 57s 183ms/step - loss: 0.1282 - accuracy: 0.9500 - val_loss: 0.1180 - val_accuracy: 0.9565\n",
            "Epoch 16/30\n",
            "313/313 [==============================] - 57s 183ms/step - loss: 0.1292 - accuracy: 0.9523 - val_loss: 0.1208 - val_accuracy: 0.9560\n",
            "Epoch 17/30\n",
            "313/313 [==============================] - 57s 183ms/step - loss: 0.1221 - accuracy: 0.9558 - val_loss: 0.1126 - val_accuracy: 0.9590\n",
            "Epoch 18/30\n",
            "313/313 [==============================] - 58s 184ms/step - loss: 0.1154 - accuracy: 0.9585 - val_loss: 0.1130 - val_accuracy: 0.9590\n",
            "Epoch 19/30\n",
            "313/313 [==============================] - 57s 182ms/step - loss: 0.1039 - accuracy: 0.9584 - val_loss: 0.1182 - val_accuracy: 0.9570\n",
            "Epoch 20/30\n",
            "313/313 [==============================] - 58s 185ms/step - loss: 0.1069 - accuracy: 0.9619 - val_loss: 0.0969 - val_accuracy: 0.9615\n",
            "Epoch 21/30\n",
            "313/313 [==============================] - 57s 183ms/step - loss: 0.0963 - accuracy: 0.9634 - val_loss: 0.0851 - val_accuracy: 0.9685\n",
            "Epoch 22/30\n",
            "313/313 [==============================] - 57s 182ms/step - loss: 0.0950 - accuracy: 0.9661 - val_loss: 0.0982 - val_accuracy: 0.9625\n",
            "Epoch 23/30\n",
            "313/313 [==============================] - 57s 183ms/step - loss: 0.0983 - accuracy: 0.9629 - val_loss: 0.0937 - val_accuracy: 0.9660\n",
            "Epoch 24/30\n",
            "313/313 [==============================] - 58s 185ms/step - loss: 0.0878 - accuracy: 0.9685 - val_loss: 0.1062 - val_accuracy: 0.9620\n",
            "Epoch 25/30\n",
            "313/313 [==============================] - 57s 182ms/step - loss: 0.0896 - accuracy: 0.9680 - val_loss: 0.0816 - val_accuracy: 0.9700\n",
            "Epoch 26/30\n",
            "313/313 [==============================] - 57s 182ms/step - loss: 0.0883 - accuracy: 0.9677 - val_loss: 0.1012 - val_accuracy: 0.9640\n",
            "Epoch 27/30\n",
            "313/313 [==============================] - 57s 181ms/step - loss: 0.0763 - accuracy: 0.9728 - val_loss: 0.0738 - val_accuracy: 0.9730\n",
            "Epoch 28/30\n",
            "313/313 [==============================] - 57s 183ms/step - loss: 0.0875 - accuracy: 0.9694 - val_loss: 0.1032 - val_accuracy: 0.9625\n",
            "Epoch 29/30\n",
            "313/313 [==============================] - 57s 183ms/step - loss: 0.0829 - accuracy: 0.9710 - val_loss: 0.0926 - val_accuracy: 0.9715\n",
            "Epoch 30/30\n",
            "313/313 [==============================] - 57s 181ms/step - loss: 0.0760 - accuracy: 0.9715 - val_loss: 0.0966 - val_accuracy: 0.9635\n"
          ]
        }
      ]
    },
    {
      "cell_type": "code",
      "metadata": {
        "colab": {
          "base_uri": "https://localhost:8080/",
          "height": 590
        },
        "id": "QPHeamUO54ua",
        "outputId": "0279ef60-017b-41a4-cc27-f67534b7ec3d"
      },
      "source": [
        "#total de aciertos\n",
        "plt.figure()\n",
        "plt.grid()\n",
        "plt.plot(hist.history['accuracy'],lw=2)\n",
        "plt.plot(hist.history['val_accuracy'],lw=2)\n",
        "plt.title('model_accuracy')\n",
        "plt.ylabel('accuracy')\n",
        "plt.xlabel('epoch')\n",
        "\n",
        "#total de perdida\n",
        "plt.figure()\n",
        "plt.grid()\n",
        "plt.plot(hist.history['loss'],lw=2)\n",
        "plt.plot(hist.history['val_loss'],lw=2)\n",
        "plt.title('model_loss')\n",
        "plt.ylabel('loss')\n",
        "plt.xlabel('epoch')"
      ],
      "execution_count": 20,
      "outputs": [
        {
          "output_type": "execute_result",
          "data": {
            "text/plain": [
              "Text(0.5, 0, 'epoch')"
            ]
          },
          "metadata": {},
          "execution_count": 20
        },
        {
          "output_type": "display_data",
          "data": {
            "image/png": "[encoded data removed]",
            "text/plain": [
              "<Figure size 432x288 with 1 Axes>"
            ]
          },
          "metadata": {
            "needs_background": "light"
          }
        },
        {
          "output_type": "display_data",
          "data": {
            "image/png": "[encoded data removed]",
            "text/plain": [
              "<Figure size 432x288 with 1 Axes>"
            ]
          },
          "metadata": {
            "needs_background": "light"
          }
        }
      ]
    },
    {
      "cell_type": "code",
      "metadata": {
        "colab": {
          "base_uri": "https://localhost:8080/"
        },
        "id": "HbbSTD2K7JNN",
        "outputId": "0c07ffa5-34e1-4713-bb54-7e2b5d9becd4"
      },
      "source": [
        "ypred=model.predict(xtest);\n",
        "ypred=ypred.ravel()>0.5\n",
        "\n",
        "#metricas\n",
        "print('Metricas: \\n', metrics.classification_report(ytest,ypred))\n",
        "\n",
        "#matriz de confusión\n",
        "print('Matriz de confusión: \\n',metrics.confusion_matrix(ytest,ypred))"
      ],
      "execution_count": 21,
      "outputs": [
        {
          "output_type": "stream",
          "name": "stdout",
          "text": [
            "Metricas: \n",
            "               precision    recall  f1-score   support\n",
            "\n",
            "         0.0       0.95      0.98      0.96      1000\n",
            "         1.0       0.98      0.95      0.96      1000\n",
            "\n",
            "    accuracy                           0.96      2000\n",
            "   macro avg       0.96      0.96      0.96      2000\n",
            "weighted avg       0.96      0.96      0.96      2000\n",
            "\n",
            "Matriz de confusión: \n",
            " [[977  23]\n",
            " [ 50 950]]\n"
          ]
        }
      ]
    },
    {
      "cell_type": "code",
      "metadata": {
        "id": "MgtgmY2N8U3K"
      },
      "source": [
        "model.save('CNN_Model_CIFAR10.h5')"
      ],
      "execution_count": 22,
      "outputs": []
    },
    {
      "cell_type": "code",
      "metadata": {
        "id": "ERx8xA_28eu1"
      },
      "source": [
        "model=keras.models.load_model('CNN_Model_CIFAR10.h5')"
      ],
      "execution_count": 23,
      "outputs": []
    },
    {
      "cell_type": "code",
      "metadata": {
        "colab": {
          "base_uri": "https://localhost:8080/",
          "height": 281
        },
        "id": "O-E0SxNs8mGA",
        "outputId": "2ad806af-83c6-4e62-c167-1971dbde3776"
      },
      "source": [
        "patron= xtest[np.random.randint(0,2000)].reshape(1,32,32,3)\n",
        "\n",
        "number=model.predict(patron);\n",
        "number=number.ravel()>0.5\n",
        "\n",
        "\n",
        "plt.imshow(patron[0,:,:,0])\n",
        "plt.title('prediccion: ' +str(number))\n",
        "plt.show()\n",
        "\n",
        "#falso=false =perro=avion\n",
        "#verdadero=true=gato=carro"
      ],
      "execution_count": 35,
      "outputs": [
        {
          "output_type": "display_data",
          "data": {
            "image/png": "[encoded data removed]",
            "text/plain": [
              "<Figure size 432x288 with 1 Axes>"
            ]
          },
          "metadata": {
            "needs_background": "light"
          }
        }
      ]
    },
    {
      "cell_type": "code",
      "metadata": {
        "id": "Qzp5Io2h9fAh",
        "colab": {
          "base_uri": "https://localhost:8080/",
          "height": 281
        },
        "outputId": "d4abe25d-4f8e-4840-c8a8-7a9d7f193f94"
      },
      "source": [
        "import cv2\n",
        "\n",
        "img=cv2.imread('4c.jpg')\n",
        "\n",
        "img=cv2.resize(img,(32,32))\n",
        "\n",
        "patron= img.reshape(1,32,32,3)/255\n",
        "\n",
        "number=model.predict(patron);\n",
        "number=number.ravel()>0.5\n",
        "\n",
        "\n",
        "plt.imshow(patron[0,:,:,0])\n",
        "plt.title('prediccion: ' +str(number))\n",
        "plt.show()\n",
        "#falso=false =perro=dog=aviones\n",
        "#verdadero=true=gato=cat=carros"
      ],
      "execution_count": 41,
      "outputs": [
        {
          "output_type": "display_data",
          "data": {
            "image/png": "[encoded data removed]",
            "text/plain": [
              "<Figure size 432x288 with 1 Axes>"
            ]
          },
          "metadata": {
            "needs_background": "light"
          }
        }
      ]
    }
  ]
}